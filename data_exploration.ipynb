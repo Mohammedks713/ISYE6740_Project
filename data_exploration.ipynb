{
 "cells": [
  {
   "cell_type": "code",
   "id": "initial_id",
   "metadata": {
    "collapsed": true,
    "ExecuteTime": {
     "end_time": "2024-11-06T17:52:01.439945Z",
     "start_time": "2024-11-06T17:52:01.436716Z"
    }
   },
   "source": [
    "# import libraries as necessary\n",
    "import numpy as np\n",
    "import matplotlib.pyplot as plt\n",
    "import pandas as pd\n",
    "import os \n",
    "from PIL import Image\n",
    "from sklearn.model_selection import train_test_split, RandomizedSearchCV\n",
    "from sklearn.ensemble import RandomForestClassifier\n",
    "from sklearn.metrics import accuracy_score, classification_report, fbeta_score, balanced_accuracy_score, make_scorer, confusion_matrix\n",
    "from scipy.stats import randint\n",
    "import xgboost as xgb\n",
    "import seaborn as sns"
   ],
   "outputs": [],
   "execution_count": 21
  },
  {
   "metadata": {
    "ExecuteTime": {
     "end_time": "2024-11-06T17:52:05.332206Z",
     "start_time": "2024-11-06T17:52:03.161290Z"
    }
   },
   "cell_type": "code",
   "source": [
    "data_folder = 'data/'\n",
    "\n",
    "image_data = []\n",
    "image_size = (64,64)\n",
    "\n",
    "for label in os.listdir(data_folder):\n",
    "    subfolder_path = os.path.join(data_folder, label)\n",
    "    \n",
    "    if os.path.isdir(subfolder_path):\n",
    "        for image_file in os.listdir(subfolder_path):\n",
    "            image_path = os.path.join(subfolder_path, image_file)\n",
    "\n",
    "            image = Image.open(image_path).convert('RGB').resize(image_size)\n",
    "            image_array = np.array(image).flatten()\n",
    "            image_data.append((image_array, label))  \n",
    "df = pd.DataFrame(image_data, columns=['Image', 'Label'])\n"
   ],
   "id": "c33b06479882148",
   "outputs": [],
   "execution_count": 22
  },
  {
   "metadata": {
    "ExecuteTime": {
     "end_time": "2024-11-06T17:52:09.118039Z",
     "start_time": "2024-11-06T17:52:09.114590Z"
    }
   },
   "cell_type": "code",
   "source": [
    "label_map = {'glioma': 0, 'meningioma': 1, 'pituitary': 2, 'notumor':3}\n",
    "df['Label_Int'] = df['Label'].map(label_map)"
   ],
   "id": "6956b77d18f2a35f",
   "outputs": [],
   "execution_count": 23
  },
  {
   "metadata": {
    "ExecuteTime": {
     "end_time": "2024-11-06T17:52:10.480795Z",
     "start_time": "2024-11-06T17:52:10.471545Z"
    }
   },
   "cell_type": "code",
   "source": [
    "X = np.stack(df['Image'].values)\n",
    "y = df['Label_Int'].values\n",
    "\n",
    "X_train, X_test, y_train, y_test = train_test_split(X,y, test_size=0.2, random_state=6740)"
   ],
   "id": "925ad7aec2f86e42",
   "outputs": [],
   "execution_count": 24
  },
  {
   "metadata": {
    "ExecuteTime": {
     "end_time": "2024-11-06T17:52:12.427022Z",
     "start_time": "2024-11-06T17:52:12.422475Z"
    }
   },
   "cell_type": "code",
   "source": [
    "param_grid = {\n",
    "    'n_estimators': randint(50, 200),\n",
    "    'max_depth': randint(10, 50),\n",
    "    'min_samples_split': randint(2, 20),\n",
    "    'min_samples_leaf': randint(1, 20),\n",
    "    'max_features': ['sqrt', 'log2', None]\n",
    "}\n",
    "\n",
    "balanced_acc_scorer = make_scorer(balanced_accuracy_score)\n",
    "f2_scorer = make_scorer(fbeta_score, beta=2, average='weighted')"
   ],
   "id": "838804c7b3e060df",
   "outputs": [],
   "execution_count": 25
  },
  {
   "metadata": {
    "ExecuteTime": {
     "end_time": "2024-11-06T18:28:46.862489Z",
     "start_time": "2024-11-06T17:52:18.835195Z"
    }
   },
   "cell_type": "code",
   "source": [
    "rf = RandomForestClassifier(random_state=6740)\n",
    "random_search = RandomizedSearchCV(\n",
    "    estimator=rf,\n",
    "    param_distributions=param_grid,\n",
    "    n_iter=20, \n",
    "    scoring={'balanced_accuracy': balanced_acc_scorer, 'f2_score': f2_scorer},\n",
    "    refit='balanced_accuracy', \n",
    "    cv=5,  \n",
    "    random_state=6740,\n",
    "    n_jobs=-1  \n",
    ")\n",
    "\n",
    "random_search.fit(X_train, y_train)\n",
    "\n",
    "best_rf = random_search.best_estimator_\n",
    "print(\"Best Parameters:\", random_search.best_params_)\n",
    "y_pred = best_rf.predict(X_test)"
   ],
   "id": "4eb2fce2b9af2b4a",
   "outputs": [
    {
     "name": "stdout",
     "output_type": "stream",
     "text": [
      "Best Parameters: {'max_depth': 32, 'max_features': None, 'min_samples_leaf': 1, 'min_samples_split': 16, 'n_estimators': 189}\n"
     ]
    }
   ],
   "execution_count": 26
  },
  {
   "metadata": {
    "ExecuteTime": {
     "end_time": "2024-11-06T18:54:27.285832Z",
     "start_time": "2024-11-06T18:54:27.264758Z"
    }
   },
   "cell_type": "code",
   "source": [
    "best_rf = random_search.best_estimator_\n",
    "print(\"Best Parameters:\", random_search.best_params_)\n",
    "y_pred = best_rf.predict(X_test)"
   ],
   "id": "2c28886cbb8458ac",
   "outputs": [
    {
     "name": "stdout",
     "output_type": "stream",
     "text": [
      "Best Parameters: {'max_depth': 32, 'max_features': None, 'min_samples_leaf': 1, 'min_samples_split': 16, 'n_estimators': 189}\n"
     ]
    }
   ],
   "execution_count": 27
  },
  {
   "metadata": {
    "ExecuteTime": {
     "end_time": "2024-11-06T18:54:28.969685Z",
     "start_time": "2024-11-06T18:54:28.967180Z"
    }
   },
   "cell_type": "code",
   "source": [
    "# rf = RandomForestClassifier( random_state=6740, max_depth = 32, max_features = None, min_samples_leaf = 1, min_samples_split = 16, n_estimators = 189)\n",
    "# rf.fit(X_train, y_train)\n",
    "# y_pred = rf.predict(X_test)"
   ],
   "id": "1d43ba8c74eb5e13",
   "outputs": [],
   "execution_count": 28
  },
  {
   "metadata": {
    "ExecuteTime": {
     "end_time": "2024-11-06T18:54:36.992318Z",
     "start_time": "2024-11-06T18:54:36.986737Z"
    }
   },
   "cell_type": "code",
   "source": [
    "balanced_acc = balanced_accuracy_score(y_test, y_pred)\n",
    "print(f\"Random Forest Balanced Accuracy: {balanced_acc * 100:.2f}%\")\n",
    "f2_score = fbeta_score(y_test, y_pred, beta=2, average='weighted')\n",
    "print(f\"Random Forest F2 Score: {f2_score:.2f}\")"
   ],
   "id": "71ea3795c3612242",
   "outputs": [
    {
     "name": "stdout",
     "output_type": "stream",
     "text": [
      "Random Forest Balanced Accuracy: 85.82%\n",
      "Random Forest F2 Score: 0.86\n"
     ]
    }
   ],
   "execution_count": 29
  },
  {
   "metadata": {
    "ExecuteTime": {
     "end_time": "2024-11-06T18:54:40.515341Z",
     "start_time": "2024-11-06T18:54:40.408750Z"
    }
   },
   "cell_type": "code",
   "source": [
    "conf_matrix = confusion_matrix(y_test, y_pred)\n",
    "\n",
    "class_labels = ['glioma', 'meningioma', 'pituitary', 'notumor']\n",
    "\n",
    "plt.figure(figsize=(8, 6))\n",
    "sns.heatmap(conf_matrix, annot=True, fmt=\"d\", cmap=\"Blues\", xticklabels=class_labels, yticklabels=class_labels)\n",
    "plt.xlabel('Predicted Labels')\n",
    "plt.ylabel('True Labels')\n",
    "plt.title('Confusion Matrix for Tuned Random Forest')\n",
    "plt.show()"
   ],
   "id": "6987c42f0bc36651",
   "outputs": [
    {
     "data": {
      "text/plain": [
       "<Figure size 800x600 with 2 Axes>"
      ],
      "image/png": "[encoded data removed]"
     },
     "metadata": {},
     "output_type": "display_data"
    }
   ],
   "execution_count": 30
  },
  {
   "metadata": {
    "ExecuteTime": {
     "end_time": "2024-10-24T16:29:15.143757Z",
     "start_time": "2024-10-24T16:28:36.534076Z"
    }
   },
   "cell_type": "code",
   "source": [
    "xgb_mod = xgb.XGBClassifier(random_state=6740)\n",
    "xgb_mod.fit(X_train, y_train)\n",
    "y_pred = xgb_mod.predict(X_test)"
   ],
   "id": "d098a63acb6bc4a0",
   "outputs": [],
   "execution_count": 17
  },
  {
   "metadata": {
    "ExecuteTime": {
     "end_time": "2024-10-24T16:29:18.193678Z",
     "start_time": "2024-10-24T16:29:18.188974Z"
    }
   },
   "cell_type": "code",
   "source": [
    "balanced_acc = balanced_accuracy_score(y_test, y_pred)\n",
    "print(f\"XGBoost Balanced Accuracy: {balanced_acc * 100:.2f}%\")\n",
    "f2_score = fbeta_score(y_test, y_pred, beta=2, average='weighted')\n",
    "print(f\"XGBoost F2 Score: {f2_score:.2f}\")"
   ],
   "id": "b4c7ff5db55d2f98",
   "outputs": [
    {
     "name": "stdout",
     "output_type": "stream",
     "text": [
      "XGBoost Balanced Accuracy: 86.34%\n",
      "XGBoost F2 Score: 0.87\n"
     ]
    }
   ],
   "execution_count": 18
  }
 ],
 "metadata": {
  "kernelspec": {
   "display_name": "Python 3",
   "language": "python",
   "name": "python3"
  },
  "language_info": {
   "codemirror_mode": {
    "name": "ipython",
    "version": 2
   },
   "file_extension": ".py",
   "mimetype": "text/x-python",
   "name": "python",
   "nbconvert_exporter": "python",
   "pygments_lexer": "ipython2",
   "version": "2.7.6"
  }
 },
 "nbformat": 4,
 "nbformat_minor": 5
}
