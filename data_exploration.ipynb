{
 "cells": [
  {
   "cell_type": "code",
   "id": "initial_id",
   "metadata": {
    "collapsed": true,
    "ExecuteTime": {
     "end_time": "2024-10-24T16:28:15.010934Z",
     "start_time": "2024-10-24T16:28:15.007426Z"
    }
   },
   "source": [
    "# import libraries as necessary\n",
    "import numpy as np\n",
    "import matplotlib.pyplot as plt\n",
    "import pandas as pd\n",
    "import os \n",
    "from PIL import Image\n",
    "from sklearn.model_selection import train_test_split\n",
    "from sklearn.ensemble import RandomForestClassifier\n",
    "from sklearn.metrics import accuracy_score, classification_report, fbeta_score, balanced_accuracy_score\n",
    "import xgboost as xgb"
   ],
   "outputs": [],
   "execution_count": 11
  },
  {
   "metadata": {
    "ExecuteTime": {
     "end_time": "2024-10-24T16:28:18.474504Z",
     "start_time": "2024-10-24T16:28:16.328119Z"
    }
   },
   "cell_type": "code",
   "source": [
    "data_folder = 'data/'\n",
    "\n",
    "image_data = []\n",
    "image_size = (64,64)\n",
    "\n",
    "for label in os.listdir(data_folder):\n",
    "    subfolder_path = os.path.join(data_folder, label)\n",
    "    \n",
    "    if os.path.isdir(subfolder_path):\n",
    "        for image_file in os.listdir(subfolder_path):\n",
    "            image_path = os.path.join(subfolder_path, image_file)\n",
    "\n",
    "            image = Image.open(image_path).convert('RGB').resize(image_size)\n",
    "            image_array = np.array(image).flatten()\n",
    "            image_data.append((image_array, label))  \n",
    "df = pd.DataFrame(image_data, columns=['Image', 'Label'])\n"
   ],
   "id": "c33b06479882148",
   "outputs": [],
   "execution_count": 12
  },
  {
   "metadata": {
    "ExecuteTime": {
     "end_time": "2024-10-24T16:28:19.954680Z",
     "start_time": "2024-10-24T16:28:19.951020Z"
    }
   },
   "cell_type": "code",
   "source": [
    "label_map = {'glioma': 0, 'meningioma': 1, 'pituitary': 2, 'notumor':3}\n",
    "df['Label_Int'] = df['Label'].map(label_map)"
   ],
   "id": "6956b77d18f2a35f",
   "outputs": [],
   "execution_count": 13
  },
  {
   "metadata": {
    "ExecuteTime": {
     "end_time": "2024-10-24T16:28:21.227380Z",
     "start_time": "2024-10-24T16:28:21.218254Z"
    }
   },
   "cell_type": "code",
   "source": [
    "X = np.stack(df['Image'].values)\n",
    "y = df['Label_Int'].values\n",
    "\n",
    "X_train, X_test, y_train, y_test = train_test_split(X,y, test_size=0.2, random_state=6740)"
   ],
   "id": "925ad7aec2f86e42",
   "outputs": [],
   "execution_count": 14
  },
  {
   "metadata": {
    "ExecuteTime": {
     "end_time": "2024-10-24T16:28:28.946137Z",
     "start_time": "2024-10-24T16:28:23.265463Z"
    }
   },
   "cell_type": "code",
   "source": [
    "rf = RandomForestClassifier( random_state=6740)\n",
    "rf.fit(X_train, y_train)\n",
    "y_pred = rf.predict(X_test)"
   ],
   "id": "4eb2fce2b9af2b4a",
   "outputs": [],
   "execution_count": 15
  },
  {
   "metadata": {
    "ExecuteTime": {
     "end_time": "2024-10-24T16:28:34.061673Z",
     "start_time": "2024-10-24T16:28:34.056069Z"
    }
   },
   "cell_type": "code",
   "source": [
    "balanced_acc = balanced_accuracy_score(y_test, y_pred)\n",
    "print(f\"Random Forest Balanced Accuracy: {balanced_acc * 100:.2f}%\")\n",
    "f2_score = fbeta_score(y_test, y_pred, beta=2, average='weighted')\n",
    "print(f\"Random Forest F2 Score: {f2_score:.2f}\")"
   ],
   "id": "2c28886cbb8458ac",
   "outputs": [
    {
     "name": "stdout",
     "output_type": "stream",
     "text": [
      "Random Forest Balanced Accuracy: 85.15%\n",
      "Random Forest F2 Score: 0.86\n"
     ]
    }
   ],
   "execution_count": 16
  },
  {
   "metadata": {
    "ExecuteTime": {
     "end_time": "2024-10-24T16:29:15.143757Z",
     "start_time": "2024-10-24T16:28:36.534076Z"
    }
   },
   "cell_type": "code",
   "source": [
    "xgb_mod = xgb.XGBClassifier(random_state=6740)\n",
    "xgb_mod.fit(X_train, y_train)\n",
    "y_pred = xgb_mod.predict(X_test)"
   ],
   "id": "d098a63acb6bc4a0",
   "outputs": [],
   "execution_count": 17
  },
  {
   "metadata": {
    "ExecuteTime": {
     "end_time": "2024-10-24T16:29:18.193678Z",
     "start_time": "2024-10-24T16:29:18.188974Z"
    }
   },
   "cell_type": "code",
   "source": [
    "balanced_acc = balanced_accuracy_score(y_test, y_pred)\n",
    "print(f\"XGBoost Balanced Accuracy: {balanced_acc * 100:.2f}%\")\n",
    "f2_score = fbeta_score(y_test, y_pred, beta=2, average='weighted')\n",
    "print(f\"XGBoost F2 Score: {f2_score:.2f}\")"
   ],
   "id": "b4c7ff5db55d2f98",
   "outputs": [
    {
     "name": "stdout",
     "output_type": "stream",
     "text": [
      "XGBoost Balanced Accuracy: 86.34%\n",
      "XGBoost F2 Score: 0.87\n"
     ]
    }
   ],
   "execution_count": 18
  }
 ],
 "metadata": {
  "kernelspec": {
   "display_name": "Python 3",
   "language": "python",
   "name": "python3"
  },
  "language_info": {
   "codemirror_mode": {
    "name": "ipython",
    "version": 2
   },
   "file_extension": ".py",
   "mimetype": "text/x-python",
   "name": "python",
   "nbconvert_exporter": "python",
   "pygments_lexer": "ipython2",
   "version": "2.7.6"
  }
 },
 "nbformat": 4,
 "nbformat_minor": 5
}
